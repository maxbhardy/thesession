{
 "cells": [
  {
   "cell_type": "code",
   "execution_count": 49,
   "id": "096de4f1",
   "metadata": {},
   "outputs": [],
   "source": [
    "import music21\n",
    "import pathlib"
   ]
  },
  {
   "cell_type": "code",
   "execution_count": 50,
   "id": "cef45d88",
   "metadata": {},
   "outputs": [
    {
     "data": {
      "text/plain": [
       "{'instrument': music21.instrument.Instrument,\n",
       " 'keyboardinstrument': music21.instrument.KeyboardInstrument,\n",
       " 'piano': music21.instrument.Piano,\n",
       " 'harpsichord': music21.instrument.Harpsichord,\n",
       " 'clavichord': music21.instrument.Clavichord,\n",
       " 'celesta': music21.instrument.Celesta,\n",
       " 'sampler': music21.instrument.Sampler,\n",
       " 'electricpiano': music21.instrument.ElectricPiano,\n",
       " 'organ': music21.instrument.Organ,\n",
       " 'pipeorgan': music21.instrument.PipeOrgan,\n",
       " 'electricorgan': music21.instrument.ElectricOrgan,\n",
       " 'reedorgan': music21.instrument.ReedOrgan,\n",
       " 'accordion': music21.instrument.Accordion,\n",
       " 'harmonica': music21.instrument.Harmonica,\n",
       " 'stringinstrument': music21.instrument.StringInstrument,\n",
       " 'violin': music21.instrument.Violin,\n",
       " 'viola': music21.instrument.Viola,\n",
       " 'violoncello': music21.instrument.Violoncello,\n",
       " 'contrabass': music21.instrument.Contrabass,\n",
       " 'harp': music21.instrument.Harp,\n",
       " 'guitar': music21.instrument.Guitar,\n",
       " 'acousticguitar': music21.instrument.AcousticGuitar,\n",
       " 'electricguitar': music21.instrument.ElectricGuitar,\n",
       " 'acousticbass': music21.instrument.AcousticBass,\n",
       " 'electricbass': music21.instrument.ElectricBass,\n",
       " 'fretlessbass': music21.instrument.FretlessBass,\n",
       " 'mandolin': music21.instrument.Mandolin,\n",
       " 'ukulele': music21.instrument.Ukulele,\n",
       " 'banjo': music21.instrument.Banjo,\n",
       " 'lute': music21.instrument.Lute,\n",
       " 'sitar': music21.instrument.Sitar,\n",
       " 'shamisen': music21.instrument.Shamisen,\n",
       " 'koto': music21.instrument.Koto,\n",
       " 'woodwindinstrument': music21.instrument.WoodwindInstrument,\n",
       " 'flute': music21.instrument.Flute,\n",
       " 'piccolo': music21.instrument.Piccolo,\n",
       " 'recorder': music21.instrument.Recorder,\n",
       " 'panflute': music21.instrument.PanFlute,\n",
       " 'shakuhachi': music21.instrument.Shakuhachi,\n",
       " 'whistle': music21.instrument.Whistle,\n",
       " 'ocarina': music21.instrument.Ocarina,\n",
       " 'oboe': music21.instrument.Oboe,\n",
       " 'englishhorn': music21.instrument.EnglishHorn,\n",
       " 'clarinet': music21.instrument.Clarinet,\n",
       " 'bassclarinet': music21.instrument.BassClarinet,\n",
       " 'bassoon': music21.instrument.Bassoon,\n",
       " 'contrabassoon': music21.instrument.Contrabassoon,\n",
       " 'saxophone': music21.instrument.Saxophone,\n",
       " 'sopranosaxophone': music21.instrument.SopranoSaxophone,\n",
       " 'altosaxophone': music21.instrument.AltoSaxophone,\n",
       " 'tenorsaxophone': music21.instrument.TenorSaxophone,\n",
       " 'baritonesaxophone': music21.instrument.BaritoneSaxophone,\n",
       " 'bagpipes': music21.instrument.Bagpipes,\n",
       " 'shehnai': music21.instrument.Shehnai,\n",
       " 'brassinstrument': music21.instrument.BrassInstrument,\n",
       " 'horn': music21.instrument.Horn,\n",
       " 'trumpet': music21.instrument.Trumpet,\n",
       " 'trombone': music21.instrument.Trombone,\n",
       " 'basstrombone': music21.instrument.BassTrombone,\n",
       " 'tuba': music21.instrument.Tuba,\n",
       " 'percussion': music21.instrument.Percussion,\n",
       " 'pitchedpercussion': music21.instrument.PitchedPercussion,\n",
       " 'unpitchedpercussion': music21.instrument.UnpitchedPercussion,\n",
       " 'vibraphone': music21.instrument.Vibraphone,\n",
       " 'marimba': music21.instrument.Marimba,\n",
       " 'xylophone': music21.instrument.Xylophone,\n",
       " 'glockenspiel': music21.instrument.Glockenspiel,\n",
       " 'churchbells': music21.instrument.ChurchBells,\n",
       " 'tubularbells': music21.instrument.TubularBells,\n",
       " 'gong': music21.instrument.Gong,\n",
       " 'handbells': music21.instrument.Handbells,\n",
       " 'dulcimer': music21.instrument.Dulcimer,\n",
       " 'steeldrum': music21.instrument.SteelDrum,\n",
       " 'timpani': music21.instrument.Timpani,\n",
       " 'kalimba': music21.instrument.Kalimba,\n",
       " 'woodblock': music21.instrument.Woodblock,\n",
       " 'templeblock': music21.instrument.TempleBlock,\n",
       " 'castanets': music21.instrument.Castanets,\n",
       " 'maracas': music21.instrument.Maracas,\n",
       " 'vibraslap': music21.instrument.Vibraslap,\n",
       " 'cymbals': music21.instrument.Cymbals,\n",
       " 'fingercymbals': music21.instrument.FingerCymbals,\n",
       " 'crashcymbals': music21.instrument.CrashCymbals,\n",
       " 'suspendedcymbal': music21.instrument.SuspendedCymbal,\n",
       " 'sizzlecymbal': music21.instrument.SizzleCymbal,\n",
       " 'splashcymbals': music21.instrument.SplashCymbals,\n",
       " 'ridecymbals': music21.instrument.RideCymbals,\n",
       " 'hihatcymbal': music21.instrument.HiHatCymbal,\n",
       " 'triangle': music21.instrument.Triangle,\n",
       " 'cowbell': music21.instrument.Cowbell,\n",
       " 'agogo': music21.instrument.Agogo,\n",
       " 'tamtam': music21.instrument.TamTam,\n",
       " 'sleighbells': music21.instrument.SleighBells,\n",
       " 'snaredrum': music21.instrument.SnareDrum,\n",
       " 'tenordrum': music21.instrument.TenorDrum,\n",
       " 'bongodrums': music21.instrument.BongoDrums,\n",
       " 'tomtom': music21.instrument.TomTom,\n",
       " 'timbales': music21.instrument.Timbales,\n",
       " 'congadrum': music21.instrument.CongaDrum,\n",
       " 'bassdrum': music21.instrument.BassDrum,\n",
       " 'taiko': music21.instrument.Taiko,\n",
       " 'tambourine': music21.instrument.Tambourine,\n",
       " 'whip': music21.instrument.Whip,\n",
       " 'ratchet': music21.instrument.Ratchet,\n",
       " 'siren': music21.instrument.Siren,\n",
       " 'sandpaperblocks': music21.instrument.SandpaperBlocks,\n",
       " 'windmachine': music21.instrument.WindMachine,\n",
       " 'vocalist': music21.instrument.Vocalist,\n",
       " 'soprano': music21.instrument.Soprano,\n",
       " 'mezzosoprano': music21.instrument.MezzoSoprano,\n",
       " 'alto': music21.instrument.Alto,\n",
       " 'tenor': music21.instrument.Tenor,\n",
       " 'baritone': music21.instrument.Baritone,\n",
       " 'bass': music21.instrument.Bass,\n",
       " 'choir': music21.instrument.Choir,\n",
       " 'conductor': music21.instrument.Conductor}"
      ]
     },
     "execution_count": 50,
     "metadata": {},
     "output_type": "execute_result"
    }
   ],
   "source": [
    "instruments = {k.lower():v for k,v in vars(music21.instrument).items() if hasattr(v, \"bestName\")}\n",
    "instruments"
   ]
  },
  {
   "cell_type": "code",
   "execution_count": 58,
   "id": "3a4fa2a8",
   "metadata": {},
   "outputs": [],
   "source": [
    "def abc_to_midi(abc_file, destination=None, instrument=None, tempo=None):\n",
    "    abc_file = pathlib.Path(abc_file)\n",
    "\n",
    "    if destination is None:\n",
    "        destination = abc_file.with_suffix(\".mid\")\n",
    "        \n",
    "    score = music21.converter.parse(\"cooleys.abc\")\n",
    "\n",
    "    if instrument is not None:\n",
    "        instrument = instruments.get(instrument.lower())\n",
    "        for p in score.parts:\n",
    "            p.insert(0, instrument())\n",
    "\n",
    "    if tempo is not None:\n",
    "        score.insert(0, music21.tempo.MetronomeMark(number=tempo))\n",
    "\n",
    "    # Convert to midi\n",
    "    mf = music21.midi.translate.music21ObjectToMidiFile(score)\n",
    "    mf.open(destination, \"wb\")\n",
    "    mf.write()\n",
    "    mf.close()\n",
    "\n",
    "    return destination"
   ]
  },
  {
   "cell_type": "code",
   "execution_count": 59,
   "id": "d41e5fdf",
   "metadata": {},
   "outputs": [
    {
     "data": {
      "text/plain": [
       "PosixPath('cooleys.mid')"
      ]
     },
     "execution_count": 59,
     "metadata": {},
     "output_type": "execute_result"
    }
   ],
   "source": [
    "abc_to_midi(\"cooleys.abc\", instrument=\"violin\", tempo=160)"
   ]
  },
  {
   "cell_type": "code",
   "execution_count": 64,
   "id": "4fa79b2f",
   "metadata": {},
   "outputs": [],
   "source": [
    "import subprocess\n",
    "\n",
    "def midi_to_mp3(midi_file):\n",
    "    midi_file = pathlib.Path(midi_file)\n",
    "    wav_file = midi_file.with_suffix(\".wav\")\n",
    "    mp3_file = midi_file.with_suffix(\".mp3\")\n",
    "\n",
    "    # Convert to wav\n",
    "    command = [\n",
    "        \"fluidsynth\",\n",
    "        \"-ni\",\n",
    "        \"GeneralUser-GS.sf2\",\n",
    "        str(midi_file),\n",
    "        \"-F\",\n",
    "        str(wav_file),\n",
    "        \"-r\",\n",
    "        \"44100\"\n",
    "    ]\n",
    "\n",
    "    subprocess.run(command, check=True, capture_output=True)\n",
    "\n",
    "    # Convert to mp3\n",
    "    mp3_file.unlink()\n",
    "    command = [\n",
    "        \"ffmpeg\",\n",
    "        \"-i\",\n",
    "        str(wav_file),\n",
    "        str(mp3_file)\n",
    "    ]\n",
    "\n",
    "    subprocess.run(command, check=True, capture_output=True)\n",
    "\n",
    "    # Delete wav file\n",
    "    wav_file.unlink()\n",
    "\n",
    "    return mp3_file\n"
   ]
  },
  {
   "cell_type": "code",
   "execution_count": 65,
   "id": "cfc3dee8",
   "metadata": {},
   "outputs": [
    {
     "data": {
      "text/plain": [
       "PosixPath('cooleys.mp3')"
      ]
     },
     "execution_count": 65,
     "metadata": {},
     "output_type": "execute_result"
    }
   ],
   "source": [
    "midi_to_mp3(\"cooleys.mid\")"
   ]
  },
  {
   "cell_type": "code",
   "execution_count": 61,
   "id": "561cc1a6",
   "metadata": {},
   "outputs": [],
   "source": [
    "def abc_to_mp3(abc_file, **kwargs):\n",
    "    midi_file = abc_to_midi(abc_file, **kwargs)\n",
    "    mp3_file = midi_to_mp3(midi_file)\n",
    "\n",
    "    return mp3_file"
   ]
  },
  {
   "cell_type": "code",
   "execution_count": 66,
   "id": "51feb30f",
   "metadata": {},
   "outputs": [
    {
     "data": {
      "text/plain": [
       "PosixPath('cooleys.mp3')"
      ]
     },
     "execution_count": 66,
     "metadata": {},
     "output_type": "execute_result"
    }
   ],
   "source": [
    "abc_to_mp3(\"cooleys.abc\", instrument=\"flute\", tempo=180)"
   ]
  },
  {
   "cell_type": "code",
   "execution_count": null,
   "id": "9d679915",
   "metadata": {},
   "outputs": [],
   "source": []
  }
 ],
 "metadata": {
  "kernelspec": {
   "display_name": "session",
   "language": "python",
   "name": "python3"
  },
  "language_info": {
   "codemirror_mode": {
    "name": "ipython",
    "version": 3
   },
   "file_extension": ".py",
   "mimetype": "text/x-python",
   "name": "python",
   "nbconvert_exporter": "python",
   "pygments_lexer": "ipython3",
   "version": "3.11.9"
  }
 },
 "nbformat": 4,
 "nbformat_minor": 5
}
